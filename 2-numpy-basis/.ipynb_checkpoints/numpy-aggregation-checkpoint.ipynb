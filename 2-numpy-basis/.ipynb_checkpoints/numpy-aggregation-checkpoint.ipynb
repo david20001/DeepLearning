{
 "cells": [
  {
   "cell_type": "markdown",
   "metadata": {},
   "source": [
    "# numpy聚合操作"
   ]
  },
  {
   "cell_type": "code",
   "execution_count": 3,
   "metadata": {},
   "outputs": [],
   "source": [
    "import numpy as np"
   ]
  },
  {
   "cell_type": "code",
   "execution_count": 5,
   "metadata": {},
   "outputs": [
    {
     "data": {
      "text/plain": [
       "array([0.2164984 , 0.85856383, 0.02502545, 0.82035061, 0.73314203,\n",
       "       0.27612982, 0.33299082, 0.53620184, 0.16851017, 0.54641387,\n",
       "       0.35016312, 0.5770675 , 0.183382  , 0.12827027, 0.20115613,\n",
       "       0.65204866, 0.63473847, 0.19199757, 0.11434724, 0.97720496,\n",
       "       0.22284987, 0.77192674, 0.17830399, 0.15596141, 0.78691849,\n",
       "       0.49571673, 0.22711968, 0.58788745, 0.35337303, 0.10856594,\n",
       "       0.25254205, 0.18062712, 0.35199969, 0.16263051, 0.54289513,\n",
       "       0.47552783, 0.49421634, 0.9157089 , 0.27409696, 0.29607253,\n",
       "       0.4172196 , 0.71132797, 0.50325706, 0.12267246, 0.71170508,\n",
       "       0.69807716, 0.02026949, 0.52982773, 0.73455133, 0.67719549,\n",
       "       0.80015817, 0.60700167, 0.92708601, 0.22497136, 0.18064099,\n",
       "       0.11921832, 0.99731041, 0.89182779, 0.29147315, 0.78221474,\n",
       "       0.60125008, 0.94183414, 0.99230074, 0.36138194, 0.78762585,\n",
       "       0.67444343, 0.90571218, 0.28609763, 0.81373394, 0.69850174,\n",
       "       0.52078748, 0.45533403, 0.99107938, 0.24445982, 0.94627083,\n",
       "       0.41626102, 0.10226017, 0.87328116, 0.61106782, 0.97246974,\n",
       "       0.27192021, 0.76266688, 0.61704266, 0.77466578, 0.41114014,\n",
       "       0.28605299, 0.8430988 , 0.66565126, 0.42034368, 0.85437886,\n",
       "       0.81346266, 0.07387342, 0.91115327, 0.08372054, 0.98623354,\n",
       "       0.50822534, 0.14612028, 0.11033897, 0.35605221, 0.61731612])"
      ]
     },
     "execution_count": 5,
     "metadata": {},
     "output_type": "execute_result"
    }
   ],
   "source": [
    "L = np.random.random(100)\n",
    "L"
   ]
  },
  {
   "cell_type": "code",
   "execution_count": 7,
   "metadata": {},
   "outputs": [
    {
     "data": {
      "text/plain": [
       "51.01675984332645"
      ]
     },
     "execution_count": 7,
     "metadata": {},
     "output_type": "execute_result"
    }
   ],
   "source": [
    "sum(L)"
   ]
  },
  {
   "cell_type": "code",
   "execution_count": 9,
   "metadata": {},
   "outputs": [
    {
     "data": {
      "text/plain": [
       "51.01675984332643"
      ]
     },
     "execution_count": 9,
     "metadata": {},
     "output_type": "execute_result"
    }
   ],
   "source": [
    "np.sum(L)"
   ]
  },
  {
   "cell_type": "code",
   "execution_count": 14,
   "metadata": {},
   "outputs": [
    {
     "name": "stdout",
     "output_type": "stream",
     "text": [
      "104 µs ± 1.34 µs per loop (mean ± std. dev. of 7 runs, 10000 loops each)\n",
      "3.84 µs ± 102 ns per loop (mean ± std. dev. of 7 runs, 100000 loops each)\n"
     ]
    }
   ],
   "source": [
    "bigarr = np.random.rand(1000)\n",
    "%timeit sum(bigarr)\n",
    "%timeit np.sum(bigarr)"
   ]
  },
  {
   "cell_type": "code",
   "execution_count": 15,
   "metadata": {},
   "outputs": [
    {
     "data": {
      "text/plain": [
       "0.9998823122918128"
      ]
     },
     "execution_count": 15,
     "metadata": {},
     "output_type": "execute_result"
    }
   ],
   "source": [
    "np.max(bigarr)"
   ]
  },
  {
   "cell_type": "code",
   "execution_count": 18,
   "metadata": {},
   "outputs": [
    {
     "data": {
      "text/plain": [
       "array([[ 0,  1,  2,  3],\n",
       "       [ 4,  5,  6,  7],\n",
       "       [ 8,  9, 10, 11],\n",
       "       [12, 13, 14, 15]])"
      ]
     },
     "execution_count": 18,
     "metadata": {},
     "output_type": "execute_result"
    }
   ],
   "source": [
    "M = np.arange(16).reshape(4,-1)\n",
    "M"
   ]
  },
  {
   "cell_type": "code",
   "execution_count": 19,
   "metadata": {},
   "outputs": [
    {
     "data": {
      "text/plain": [
       "120"
      ]
     },
     "execution_count": 19,
     "metadata": {},
     "output_type": "execute_result"
    }
   ],
   "source": [
    "np.sum(M)"
   ]
  },
  {
   "cell_type": "code",
   "execution_count": 20,
   "metadata": {},
   "outputs": [
    {
     "data": {
      "text/plain": [
       "15"
      ]
     },
     "execution_count": 20,
     "metadata": {},
     "output_type": "execute_result"
    }
   ],
   "source": [
    "np.max(M)"
   ]
  },
  {
   "cell_type": "code",
   "execution_count": 21,
   "metadata": {},
   "outputs": [
    {
     "data": {
      "text/plain": [
       "array([ 6, 22, 38, 54])"
      ]
     },
     "execution_count": 21,
     "metadata": {},
     "output_type": "execute_result"
    }
   ],
   "source": [
    "np.sum(M,axis=1)"
   ]
  },
  {
   "cell_type": "code",
   "execution_count": 22,
   "metadata": {},
   "outputs": [
    {
     "data": {
      "text/plain": [
       "0"
      ]
     },
     "execution_count": 22,
     "metadata": {},
     "output_type": "execute_result"
    }
   ],
   "source": [
    "np.prod(M)"
   ]
  },
  {
   "cell_type": "code",
   "execution_count": 25,
   "metadata": {},
   "outputs": [
    {
     "data": {
      "text/plain": [
       "2004189184"
      ]
     },
     "execution_count": 25,
     "metadata": {},
     "output_type": "execute_result"
    }
   ],
   "source": [
    "np.prod(M + 1)"
   ]
  },
  {
   "cell_type": "code",
   "execution_count": 26,
   "metadata": {},
   "outputs": [
    {
     "data": {
      "text/plain": [
       "7.5"
      ]
     },
     "execution_count": 26,
     "metadata": {},
     "output_type": "execute_result"
    }
   ],
   "source": [
    "np.mean(M)"
   ]
  },
  {
   "cell_type": "code",
   "execution_count": 27,
   "metadata": {},
   "outputs": [
    {
     "data": {
      "text/plain": [
       "7.5"
      ]
     },
     "execution_count": 27,
     "metadata": {},
     "output_type": "execute_result"
    }
   ],
   "source": [
    "np.median(M)"
   ]
  },
  {
   "cell_type": "code",
   "execution_count": 28,
   "metadata": {},
   "outputs": [
    {
     "data": {
      "text/plain": [
       "array([ 1,  1,  2,  2, 10])"
      ]
     },
     "execution_count": 28,
     "metadata": {},
     "output_type": "execute_result"
    }
   ],
   "source": [
    "v = np.array([1,1,2,2,10])\n",
    "v"
   ]
  },
  {
   "cell_type": "code",
   "execution_count": 29,
   "metadata": {},
   "outputs": [
    {
     "data": {
      "text/plain": [
       "3.2"
      ]
     },
     "execution_count": 29,
     "metadata": {},
     "output_type": "execute_result"
    }
   ],
   "source": [
    "np.mean(v)"
   ]
  },
  {
   "cell_type": "code",
   "execution_count": 30,
   "metadata": {},
   "outputs": [
    {
     "data": {
      "text/plain": [
       "2.0"
      ]
     },
     "execution_count": 30,
     "metadata": {},
     "output_type": "execute_result"
    }
   ],
   "source": [
    "np.median(v)"
   ]
  },
  {
   "cell_type": "code",
   "execution_count": 33,
   "metadata": {},
   "outputs": [
    {
     "data": {
      "text/plain": [
       "0.49740011126301603"
      ]
     },
     "execution_count": 33,
     "metadata": {},
     "output_type": "execute_result"
    }
   ],
   "source": [
    "np.percentile(bigarr,q=50)"
   ]
  },
  {
   "cell_type": "code",
   "execution_count": 34,
   "metadata": {},
   "outputs": [
    {
     "data": {
      "text/plain": [
       "0.9998823122918128"
      ]
     },
     "execution_count": 34,
     "metadata": {},
     "output_type": "execute_result"
    }
   ],
   "source": [
    "np.percentile(bigarr,q=100)"
   ]
  },
  {
   "cell_type": "code",
   "execution_count": 35,
   "metadata": {},
   "outputs": [
    {
     "data": {
      "text/plain": [
       "0.0007748007491680253"
      ]
     },
     "execution_count": 35,
     "metadata": {},
     "output_type": "execute_result"
    }
   ],
   "source": [
    "np.percentile(bigarr,q=0)"
   ]
  },
  {
   "cell_type": "code",
   "execution_count": 37,
   "metadata": {},
   "outputs": [
    {
     "data": {
      "text/plain": [
       "0.2352336812524028"
      ]
     },
     "execution_count": 37,
     "metadata": {},
     "output_type": "execute_result"
    }
   ],
   "source": [
    "np.percentile(bigarr,q=25)"
   ]
  },
  {
   "cell_type": "code",
   "execution_count": 38,
   "metadata": {},
   "outputs": [
    {
     "data": {
      "text/plain": [
       "0.7598539591456921"
      ]
     },
     "execution_count": 38,
     "metadata": {},
     "output_type": "execute_result"
    }
   ],
   "source": [
    "np.percentile(bigarr,q=75)"
   ]
  },
  {
   "cell_type": "code",
   "execution_count": 39,
   "metadata": {},
   "outputs": [
    {
     "name": "stdout",
     "output_type": "stream",
     "text": [
      "0.0007748007491680253\n",
      "0.2352336812524028\n",
      "0.49740011126301603\n",
      "0.7598539591456921\n",
      "0.9998823122918128\n"
     ]
    }
   ],
   "source": [
    "for percent in [0,25,50,75,100]:\n",
    "    print(np.percentile(bigarr,percent))"
   ]
  },
  {
   "cell_type": "code",
   "execution_count": 40,
   "metadata": {},
   "outputs": [
    {
     "data": {
      "text/plain": [
       "0.08792822875043584"
      ]
     },
     "execution_count": 40,
     "metadata": {},
     "output_type": "execute_result"
    }
   ],
   "source": [
    "np.var(bigarr)"
   ]
  },
  {
   "cell_type": "code",
   "execution_count": 41,
   "metadata": {},
   "outputs": [
    {
     "data": {
      "text/plain": [
       "0.2965269443919656"
      ]
     },
     "execution_count": 41,
     "metadata": {},
     "output_type": "execute_result"
    }
   ],
   "source": [
    "np.std(bigarr)"
   ]
  },
  {
   "cell_type": "code",
   "execution_count": 42,
   "metadata": {},
   "outputs": [],
   "source": [
    "u = np.random.normal(0,1,size=1000000)"
   ]
  },
  {
   "cell_type": "code",
   "execution_count": 44,
   "metadata": {},
   "outputs": [
    {
     "data": {
      "text/plain": [
       "0.000618769116568976"
      ]
     },
     "execution_count": 44,
     "metadata": {},
     "output_type": "execute_result"
    }
   ],
   "source": [
    "np.mean(u)"
   ]
  },
  {
   "cell_type": "code",
   "execution_count": 45,
   "metadata": {},
   "outputs": [
    {
     "data": {
      "text/plain": [
       "1.0008340180298008"
      ]
     },
     "execution_count": 45,
     "metadata": {},
     "output_type": "execute_result"
    }
   ],
   "source": [
    "np.std(u)"
   ]
  },
  {
   "cell_type": "markdown",
   "metadata": {},
   "source": [
    "### 索引"
   ]
  },
  {
   "cell_type": "code",
   "execution_count": 46,
   "metadata": {},
   "outputs": [
    {
     "data": {
      "text/plain": [
       "-5.237128678892233"
      ]
     },
     "execution_count": 46,
     "metadata": {},
     "output_type": "execute_result"
    }
   ],
   "source": [
    "np.min(u)"
   ]
  },
  {
   "cell_type": "code",
   "execution_count": 47,
   "metadata": {},
   "outputs": [
    {
     "data": {
      "text/plain": [
       "391403"
      ]
     },
     "execution_count": 47,
     "metadata": {},
     "output_type": "execute_result"
    }
   ],
   "source": [
    "np.argmin(u)"
   ]
  },
  {
   "cell_type": "code",
   "execution_count": 48,
   "metadata": {},
   "outputs": [
    {
     "data": {
      "text/plain": [
       "-5.237128678892233"
      ]
     },
     "execution_count": 48,
     "metadata": {},
     "output_type": "execute_result"
    }
   ],
   "source": [
    "u[391403]"
   ]
  },
  {
   "cell_type": "code",
   "execution_count": 49,
   "metadata": {},
   "outputs": [],
   "source": [
    "np.random.shuffle(L)"
   ]
  },
  {
   "cell_type": "code",
   "execution_count": 50,
   "metadata": {},
   "outputs": [
    {
     "data": {
      "text/plain": [
       "array([0.45533403, 0.8430988 , 0.50822534, 0.29607253, 0.99731041,\n",
       "       0.18064099, 0.183382  , 0.61704266, 0.22497136, 0.61731612,\n",
       "       0.18062712, 0.19199757, 0.16851017, 0.94183414, 0.81373394,\n",
       "       0.67719549, 0.78762585, 0.17830399, 0.94627083, 0.47552783,\n",
       "       0.49421634, 0.61106782, 0.54289513, 0.67444343, 0.73455133,\n",
       "       0.24445982, 0.15596141, 0.35337303, 0.92708601, 0.28609763,\n",
       "       0.98623354, 0.16263051, 0.12267246, 0.41626102, 0.60125008,\n",
       "       0.27192021, 0.07387342, 0.11033897, 0.71132797, 0.29147315,\n",
       "       0.9157089 , 0.08372054, 0.69850174, 0.2164984 , 0.35199969,\n",
       "       0.14612028, 0.85437886, 0.41114014, 0.50325706, 0.02502545,\n",
       "       0.5770675 , 0.81346266, 0.89182779, 0.66565126, 0.25254205,\n",
       "       0.42034368, 0.80015817, 0.78691849, 0.91115327, 0.22284987,\n",
       "       0.99230074, 0.10226017, 0.71170508, 0.90571218, 0.58788745,\n",
       "       0.77466578, 0.78221474, 0.28605299, 0.73314203, 0.22711968,\n",
       "       0.60700167, 0.20115613, 0.54641387, 0.99107938, 0.33299082,\n",
       "       0.11921832, 0.82035061, 0.12827027, 0.27612982, 0.76266688,\n",
       "       0.69807716, 0.63473847, 0.97720496, 0.02026949, 0.27409696,\n",
       "       0.53620184, 0.4172196 , 0.49571673, 0.85856383, 0.87328116,\n",
       "       0.35605221, 0.52982773, 0.36138194, 0.97246974, 0.35016312,\n",
       "       0.65204866, 0.52078748, 0.10856594, 0.77192674, 0.11434724])"
      ]
     },
     "execution_count": 50,
     "metadata": {},
     "output_type": "execute_result"
    }
   ],
   "source": [
    "L"
   ]
  },
  {
   "cell_type": "code",
   "execution_count": 65,
   "metadata": {},
   "outputs": [
    {
     "data": {
      "text/plain": [
       "array([0.02026949, 0.02502545, 0.07387342, 0.08372054, 0.10226017,\n",
       "       0.10856594, 0.11033897, 0.11434724, 0.11921832, 0.12267246,\n",
       "       0.12827027, 0.14612028, 0.15596141, 0.16263051, 0.16851017,\n",
       "       0.17830399, 0.18062712, 0.18064099, 0.183382  , 0.19199757,\n",
       "       0.20115613, 0.2164984 , 0.22284987, 0.22497136, 0.22711968,\n",
       "       0.24445982, 0.25254205, 0.27192021, 0.27409696, 0.27612982,\n",
       "       0.28605299, 0.28609763, 0.29147315, 0.29607253, 0.33299082,\n",
       "       0.35016312, 0.35199969, 0.35337303, 0.35605221, 0.36138194,\n",
       "       0.41114014, 0.41626102, 0.4172196 , 0.42034368, 0.45533403,\n",
       "       0.47552783, 0.49421634, 0.49571673, 0.50325706, 0.50822534,\n",
       "       0.52078748, 0.52982773, 0.53620184, 0.54289513, 0.54641387,\n",
       "       0.5770675 , 0.58788745, 0.60125008, 0.60700167, 0.61106782,\n",
       "       0.61704266, 0.61731612, 0.63473847, 0.65204866, 0.66565126,\n",
       "       0.67444343, 0.67719549, 0.69807716, 0.69850174, 0.71132797,\n",
       "       0.71170508, 0.73314203, 0.73455133, 0.76266688, 0.77192674,\n",
       "       0.77466578, 0.78221474, 0.78691849, 0.78762585, 0.80015817,\n",
       "       0.81346266, 0.81373394, 0.82035061, 0.8430988 , 0.85437886,\n",
       "       0.85856383, 0.87328116, 0.89182779, 0.90571218, 0.91115327,\n",
       "       0.9157089 , 0.92708601, 0.94183414, 0.94627083, 0.97246974,\n",
       "       0.97720496, 0.98623354, 0.99107938, 0.99230074, 0.99731041])"
      ]
     },
     "execution_count": 65,
     "metadata": {},
     "output_type": "execute_result"
    }
   ],
   "source": [
    "np.sort(L)"
   ]
  },
  {
   "cell_type": "code",
   "execution_count": 62,
   "metadata": {},
   "outputs": [
    {
     "data": {
      "text/plain": [
       "array([[0, 5, 6, 6],\n",
       "       [7, 9, 6, 9],\n",
       "       [6, 6, 9, 4],\n",
       "       [9, 9, 7, 5]])"
      ]
     },
     "execution_count": 62,
     "metadata": {},
     "output_type": "execute_result"
    }
   ],
   "source": [
    "v = np.random.randint(10,size=(4,4))\n",
    "v"
   ]
  },
  {
   "cell_type": "code",
   "execution_count": 63,
   "metadata": {},
   "outputs": [
    {
     "data": {
      "text/plain": [
       "array([[0, 5, 6, 6],\n",
       "       [6, 7, 9, 9],\n",
       "       [4, 6, 6, 9],\n",
       "       [5, 7, 9, 9]])"
      ]
     },
     "execution_count": 63,
     "metadata": {},
     "output_type": "execute_result"
    }
   ],
   "source": [
    "np.sort(v)"
   ]
  },
  {
   "cell_type": "code",
   "execution_count": 64,
   "metadata": {},
   "outputs": [
    {
     "data": {
      "text/plain": [
       "array([[0, 5, 6, 4],\n",
       "       [6, 6, 6, 5],\n",
       "       [7, 9, 7, 6],\n",
       "       [9, 9, 9, 9]])"
      ]
     },
     "execution_count": 64,
     "metadata": {},
     "output_type": "execute_result"
    }
   ],
   "source": [
    "np.sort(v,axis = 0)"
   ]
  },
  {
   "cell_type": "code",
   "execution_count": 88,
   "metadata": {},
   "outputs": [
    {
     "data": {
      "text/plain": [
       "array([7, 8, 3, 2, 5, 6, 4, 4, 2, 1])"
      ]
     },
     "execution_count": 88,
     "metadata": {},
     "output_type": "execute_result"
    }
   ],
   "source": [
    "w = np.random.randint(1,10,size=10)\n",
    "w"
   ]
  },
  {
   "cell_type": "code",
   "execution_count": 90,
   "metadata": {},
   "outputs": [
    {
     "data": {
      "text/plain": [
       "array([2, 3, 4, 8, 6, 2, 7, 1, 5, 4])"
      ]
     },
     "execution_count": 90,
     "metadata": {},
     "output_type": "execute_result"
    }
   ],
   "source": [
    "np.random.shuffle(w)\n",
    "w"
   ]
  },
  {
   "cell_type": "code",
   "execution_count": 92,
   "metadata": {},
   "outputs": [
    {
     "data": {
      "text/plain": [
       "array([7, 0, 5, 1, 2, 9, 8, 4, 6, 3], dtype=int64)"
      ]
     },
     "execution_count": 92,
     "metadata": {},
     "output_type": "execute_result"
    }
   ],
   "source": [
    "np.argsort(w)"
   ]
  },
  {
   "cell_type": "code",
   "execution_count": 96,
   "metadata": {},
   "outputs": [
    {
     "data": {
      "text/plain": [
       "array([3, 2, 1, 2, 4, 4, 5, 6, 7, 8])"
      ]
     },
     "execution_count": 96,
     "metadata": {},
     "output_type": "execute_result"
    }
   ],
   "source": [
    "np.partition(w,5)"
   ]
  },
  {
   "cell_type": "code",
   "execution_count": 97,
   "metadata": {},
   "outputs": [
    {
     "data": {
      "text/plain": [
       "array([1, 0, 7, 5, 9, 2, 8, 4, 6, 3], dtype=int64)"
      ]
     },
     "execution_count": 97,
     "metadata": {},
     "output_type": "execute_result"
    }
   ],
   "source": [
    "np.argpartition(w,5)"
   ]
  },
  {
   "cell_type": "code",
   "execution_count": 99,
   "metadata": {},
   "outputs": [
    {
     "data": {
      "text/plain": [
       "array([[ 0,  1,  2,  3],\n",
       "       [ 4,  5,  6,  7],\n",
       "       [ 8,  9, 10, 11],\n",
       "       [12, 13, 14, 15]])"
      ]
     },
     "execution_count": 99,
     "metadata": {},
     "output_type": "execute_result"
    }
   ],
   "source": [
    "M"
   ]
  },
  {
   "cell_type": "code",
   "execution_count": 100,
   "metadata": {},
   "outputs": [
    {
     "data": {
      "text/plain": [
       "array([[0, 1, 2, 3],\n",
       "       [0, 1, 2, 3],\n",
       "       [0, 1, 2, 3],\n",
       "       [0, 1, 2, 3]], dtype=int64)"
      ]
     },
     "execution_count": 100,
     "metadata": {},
     "output_type": "execute_result"
    }
   ],
   "source": [
    "np.argsort(M)"
   ]
  },
  {
   "cell_type": "code",
   "execution_count": null,
   "metadata": {},
   "outputs": [],
   "source": []
  },
  {
   "cell_type": "code",
   "execution_count": null,
   "metadata": {},
   "outputs": [],
   "source": []
  },
  {
   "cell_type": "code",
   "execution_count": null,
   "metadata": {},
   "outputs": [],
   "source": []
  }
 ],
 "metadata": {
  "kernelspec": {
   "display_name": "Python 3",
   "language": "python",
   "name": "python3"
  },
  "language_info": {
   "codemirror_mode": {
    "name": "ipython",
    "version": 3
   },
   "file_extension": ".py",
   "mimetype": "text/x-python",
   "name": "python",
   "nbconvert_exporter": "python",
   "pygments_lexer": "ipython3",
   "version": "3.7.1"
  }
 },
 "nbformat": 4,
 "nbformat_minor": 2
}
